{
 "cells": [
  {
   "cell_type": "markdown",
   "id": "e08c1873",
   "metadata": {},
   "source": [
    "Fitche data "
   ]
  },
  {
   "cell_type": "code",
   "execution_count": 1,
   "id": "3ce98965",
   "metadata": {},
   "outputs": [
    {
     "name": "stdout",
     "output_type": "stream",
     "text": [
      "<class 'pandas.core.frame.DataFrame'>\n",
      "RangeIndex: 1000 entries, 0 to 999\n",
      "Data columns (total 9 columns):\n",
      " #   Column                  Non-Null Count  Dtype  \n",
      "---  ------                  --------------  -----  \n",
      " 0   Order_ID                1000 non-null   int64  \n",
      " 1   Distance_km             1000 non-null   float64\n",
      " 2   Weather                 970 non-null    object \n",
      " 3   Traffic_Level           970 non-null    object \n",
      " 4   Time_of_Day             970 non-null    object \n",
      " 5   Vehicle_Type            1000 non-null   object \n",
      " 6   Preparation_Time_min    1000 non-null   int64  \n",
      " 7   Courier_Experience_yrs  970 non-null    float64\n",
      " 8   Delivery_Time_min       1000 non-null   int64  \n",
      "dtypes: float64(2), int64(3), object(4)\n",
      "memory usage: 70.4+ KB\n"
     ]
    },
    {
     "data": {
      "text/html": [
       "<div>\n",
       "<style scoped>\n",
       "    .dataframe tbody tr th:only-of-type {\n",
       "        vertical-align: middle;\n",
       "    }\n",
       "\n",
       "    .dataframe tbody tr th {\n",
       "        vertical-align: top;\n",
       "    }\n",
       "\n",
       "    .dataframe thead th {\n",
       "        text-align: right;\n",
       "    }\n",
       "</style>\n",
       "<table border=\"1\" class=\"dataframe\">\n",
       "  <thead>\n",
       "    <tr style=\"text-align: right;\">\n",
       "      <th></th>\n",
       "      <th>Order_ID</th>\n",
       "      <th>Distance_km</th>\n",
       "      <th>Preparation_Time_min</th>\n",
       "      <th>Courier_Experience_yrs</th>\n",
       "      <th>Delivery_Time_min</th>\n",
       "    </tr>\n",
       "  </thead>\n",
       "  <tbody>\n",
       "    <tr>\n",
       "      <th>count</th>\n",
       "      <td>1000.000000</td>\n",
       "      <td>1000.000000</td>\n",
       "      <td>1000.000000</td>\n",
       "      <td>970.000000</td>\n",
       "      <td>1000.000000</td>\n",
       "    </tr>\n",
       "    <tr>\n",
       "      <th>mean</th>\n",
       "      <td>500.500000</td>\n",
       "      <td>10.059970</td>\n",
       "      <td>16.982000</td>\n",
       "      <td>4.579381</td>\n",
       "      <td>56.732000</td>\n",
       "    </tr>\n",
       "    <tr>\n",
       "      <th>std</th>\n",
       "      <td>288.819436</td>\n",
       "      <td>5.696656</td>\n",
       "      <td>7.204553</td>\n",
       "      <td>2.914394</td>\n",
       "      <td>22.070915</td>\n",
       "    </tr>\n",
       "    <tr>\n",
       "      <th>min</th>\n",
       "      <td>1.000000</td>\n",
       "      <td>0.590000</td>\n",
       "      <td>5.000000</td>\n",
       "      <td>0.000000</td>\n",
       "      <td>8.000000</td>\n",
       "    </tr>\n",
       "    <tr>\n",
       "      <th>25%</th>\n",
       "      <td>250.750000</td>\n",
       "      <td>5.105000</td>\n",
       "      <td>11.000000</td>\n",
       "      <td>2.000000</td>\n",
       "      <td>41.000000</td>\n",
       "    </tr>\n",
       "    <tr>\n",
       "      <th>50%</th>\n",
       "      <td>500.500000</td>\n",
       "      <td>10.190000</td>\n",
       "      <td>17.000000</td>\n",
       "      <td>5.000000</td>\n",
       "      <td>55.500000</td>\n",
       "    </tr>\n",
       "    <tr>\n",
       "      <th>75%</th>\n",
       "      <td>750.250000</td>\n",
       "      <td>15.017500</td>\n",
       "      <td>23.000000</td>\n",
       "      <td>7.000000</td>\n",
       "      <td>71.000000</td>\n",
       "    </tr>\n",
       "    <tr>\n",
       "      <th>max</th>\n",
       "      <td>1000.000000</td>\n",
       "      <td>19.990000</td>\n",
       "      <td>29.000000</td>\n",
       "      <td>9.000000</td>\n",
       "      <td>153.000000</td>\n",
       "    </tr>\n",
       "  </tbody>\n",
       "</table>\n",
       "</div>"
      ],
      "text/plain": [
       "          Order_ID  Distance_km  Preparation_Time_min  Courier_Experience_yrs  \\\n",
       "count  1000.000000  1000.000000           1000.000000              970.000000   \n",
       "mean    500.500000    10.059970             16.982000                4.579381   \n",
       "std     288.819436     5.696656              7.204553                2.914394   \n",
       "min       1.000000     0.590000              5.000000                0.000000   \n",
       "25%     250.750000     5.105000             11.000000                2.000000   \n",
       "50%     500.500000    10.190000             17.000000                5.000000   \n",
       "75%     750.250000    15.017500             23.000000                7.000000   \n",
       "max    1000.000000    19.990000             29.000000                9.000000   \n",
       "\n",
       "       Delivery_Time_min  \n",
       "count        1000.000000  \n",
       "mean           56.732000  \n",
       "std            22.070915  \n",
       "min             8.000000  \n",
       "25%            41.000000  \n",
       "50%            55.500000  \n",
       "75%            71.000000  \n",
       "max           153.000000  "
      ]
     },
     "execution_count": 1,
     "metadata": {},
     "output_type": "execute_result"
    }
   ],
   "source": [
    "import pandas as pd\n",
    "import numpy as np\n",
    "from sklearn.model_selection import GridSearchCV, train_test_split\n",
    "from sklearn.preprocessing import StandardScaler,OneHotEncoder\n",
    "from sklearn.feature_selection import SelectKBest,f_classif\n",
    "import matplotlib.pyplot as plt \n",
    "import seaborn as sns\n",
    "from sklearn.svm import SVR\n",
    "from sklearn.datasets import make_classification\n",
    "from sklearn.ensemble import RandomForestRegressor\n",
    "from sklearn.metrics import mean_absolute_error, r2_score\n",
    "from sklearn.compose import ColumnTransformer\n",
    "from sklearn.pipeline import Pipeline\n",
    "path = \"/Users/lait-zet/Desktop/Work_local/Data/data_livre.csv\"\n",
    "\n",
    "df = pd.read_csv(path)\n",
    "olddata = df\n",
    "df.head(4)\n",
    "df.info()\n",
    "df.isnull().sum()\n",
    "df.duplicated().sum()\n",
    "df.describe()\n",
    "\n",
    " "
   ]
  },
  {
   "cell_type": "code",
   "execution_count": 2,
   "id": "4d32d694",
   "metadata": {},
   "outputs": [
    {
     "data": {
      "text/plain": [
       "Order_ID                   0\n",
       "Distance_km                0\n",
       "Weather                   30\n",
       "Traffic_Level             30\n",
       "Time_of_Day               30\n",
       "Vehicle_Type               0\n",
       "Preparation_Time_min       0\n",
       "Courier_Experience_yrs    30\n",
       "Delivery_Time_min          0\n",
       "dtype: int64"
      ]
     },
     "execution_count": 2,
     "metadata": {},
     "output_type": "execute_result"
    }
   ],
   "source": [
    "df.isnull().sum()"
   ]
  },
  {
   "cell_type": "code",
   "execution_count": 3,
   "id": "9b83ebed",
   "metadata": {},
   "outputs": [],
   "source": [
    "def handle_missing(df, columns):\n",
    "    i = 0\n",
    "    while i < len(columns):\n",
    "        col = columns[i]\n",
    "        if df[col].dtype == 'object':\n",
    "            df[col] = df[col].fillna(df[col].mode()[0])\n",
    "        else:\n",
    "            df[col] = pd.to_numeric(df[col], errors='coerce')\n",
    "            df[col] = df[col].fillna(df[col].median())\n",
    "        i += 1\n",
    "    return df\n",
    "convert_columns = ['Weather', 'Traffic_Level', 'Time_of_Day', 'Courier_Experience_yrs']\n",
    "df = handle_missing(df, convert_columns)\n",
    "# df.isnull().sum()"
   ]
  },
  {
   "cell_type": "code",
   "execution_count": 4,
   "id": "cd926770",
   "metadata": {},
   "outputs": [],
   "source": [
    "def is_numeric(df):\n",
    "    return df.select_dtypes(include=['int64', 'float64'])\n",
    "\n",
    "def is_categorie(df):\n",
    "    return df.select_dtypes(exclude=['int64', 'float64'])\n",
    "Data_Numeric = is_numeric(df)\n",
    "Data_categorie = is_categorie(df)\n"
   ]
  },
  {
   "cell_type": "markdown",
   "id": "d8f79054",
   "metadata": {},
   "source": [
    "Visulisation"
   ]
  },
  {
   "cell_type": "code",
   "execution_count": 5,
   "id": "0900f512",
   "metadata": {},
   "outputs": [],
   "source": [
    "# corr = Data_Numeric.corr()\n",
    "# plt.figure(figsize=(10, 6))\n",
    "# sns.heatmap(corr, vmax=1 , vmin=-1 , annot=True)\n",
    "# plt.title('Heatmap de corrélation des variables numériques')\n",
    "# plt.show()"
   ]
  },
  {
   "cell_type": "code",
   "execution_count": 6,
   "id": "86326fe9",
   "metadata": {},
   "outputs": [],
   "source": [
    "# categorical_cols = ['Weather', 'Traffic_Level','Time_of_Day', 'Vehicle_Type']\n",
    "# olddata\n",
    "# for col in categorical_cols:\n",
    "#     sns.countplot(x = col , data = olddata , palette='husl')\n",
    "#     plt.title(f\"distribution : {col}\")\n",
    "#     plt.xlabel(col)\n",
    "#     plt.ylabel(\"Count\")\n",
    "#     plt.show()\n",
    "\n"
   ]
  },
  {
   "cell_type": "code",
   "execution_count": 7,
   "id": "15596baa",
   "metadata": {},
   "outputs": [],
   "source": [
    "# for cols in categorical_cols:\n",
    "#     sns.boxplot(x = cols ,y = 'Delivery_Time_min' ,data = df ,palette='Set2')\n",
    "#     plt.title(f\"Relation between {cols} and Dilvery time\")\n",
    "#     plt.xlabel(col)\n",
    "#     plt.ylabel(\"Delivery Time\")\n",
    "#     plt.show()"
   ]
  },
  {
   "cell_type": "code",
   "execution_count": 8,
   "id": "5a7fe2ef",
   "metadata": {},
   "outputs": [],
   "source": [
    "# plt.figure(figsize=(6,4))\n",
    "# sns.histplot(df['Delivery_Time_min'], bins=20, kde=True, color='skyblue')\n",
    "# plt.title(\"Distribution de la variable cible : Delivery_Time_min\")\n",
    "# plt.xlabel(\"Delivery Time (min)\")\n",
    "# plt.ylabel(\"Fréquence\")\n",
    "# plt.show()"
   ]
  },
  {
   "cell_type": "markdown",
   "id": "f5e5951d",
   "metadata": {},
   "source": [
    "Split_data\n"
   ]
  },
  {
   "cell_type": "code",
   "execution_count": 9,
   "id": "50697a85",
   "metadata": {},
   "outputs": [],
   "source": [
    "num_data = Data_Numeric[['Distance_km','Preparation_Time_min']]\n",
    "cat_data =Data_categorie[['Weather','Traffic_Level']]\n",
    "def use_scled(data):\n",
    "    le = StandardScaler()\n",
    "    scaled = le.fit_transform(data)\n",
    "    scaled_numerique = pd.DataFrame(scaled, columns=data.columns)\n",
    "    return scaled_numerique\n",
    "def use_hote(data):\n",
    "    la = OneHotEncoder(sparse_output=False)\n",
    "    encoded = la.fit_transform(data)\n",
    "    cooder_categorie = pd.DataFrame(encoded,columns = la.get_feature_names_out(data.columns))\n",
    "    return cooder_categorie\n",
    "cooder_categorie = use_hote(cat_data)\n",
    "scaled_numerique = use_scled(num_data)\n",
    "# cooder_categorie\n"
   ]
  },
  {
   "cell_type": "code",
   "execution_count": 10,
   "id": "e8b4365b",
   "metadata": {},
   "outputs": [],
   "source": [
    "target = df['Delivery_Time_min']\n",
    "prepared_data = pd.concat(\n",
    "    [scaled_numerique, cooder_categorie, target],\n",
    "    axis=1\n",
    ")\n",
    "X = df.drop(columns=[\"Delivery_Time_min\"])\n",
    "Y = df['Delivery_Time_min']\n",
    "def split_data(df):\n",
    "    X = df.drop(columns=[\"Delivery_Time_min\"])\n",
    "    Y = df['Delivery_Time_min']\n",
    "    train_X , test_X , train_Y , test_Y = train_test_split(\n",
    "    X , Y , test_size=0.2, random_state=42\n",
    "    )\n",
    "    return train_X,test_X,train_Y,test_Y\n",
    "\n",
    "train_X,test_X,train_Y,test_Y = split_data(prepared_data)"
   ]
  },
  {
   "cell_type": "markdown",
   "id": "6f1c43b3",
   "metadata": {},
   "source": [
    "SelectKBest"
   ]
  },
  {
   "cell_type": "markdown",
   "id": "60bc8e34",
   "metadata": {},
   "source": [
    "GridSearchCV"
   ]
  },
  {
   "cell_type": "code",
   "execution_count": 12,
   "id": "d889c7f3",
   "metadata": {},
   "outputs": [
    {
     "name": "stdout",
     "output_type": "stream",
     "text": [
      "Fitting 5 folds for each of 243 candidates, totalling 1215 fits\n",
      "Random Forest - MAE: 6.982, R²: 0.790\n",
      "SVR            - MAE:  5.990, R²: 0.817\n",
      "\n",
      "final choisi est: SVR (Support Vector Regressor)\n"
     ]
    }
   ],
   "source": [
    "def GridSearch_CV(trainX, testX ,trainY ,testY):\n",
    "    RF = RandomForestRegressor()\n",
    "    param_grid = {\n",
    "        'n_estimators': [100, 200, 500],\n",
    "        'max_depth': [10, 20, None],\n",
    "        'min_samples_split': [2, 5, 10],\n",
    "        'min_samples_leaf': [1, 2, 4],\n",
    "        'max_features': ['sqrt', 'log2', 1.0]\n",
    "    }\n",
    "    grid_search_for_RF = GridSearchCV(\n",
    "        estimator = RF,\n",
    "        param_grid = param_grid,\n",
    "        scoring='r2',\n",
    "        cv = 5,\n",
    "        n_jobs=-1,\n",
    "        verbose=1\n",
    "    )\n",
    "    grid_search_for_RF.fit(train_X,train_Y)\n",
    "    best_RF = grid_search_for_RF.best_estimator_\n",
    "\n",
    "\n",
    "\n",
    "    svr = SVR()\n",
    "    param_grid = {\n",
    "        'C': [0.1, 1, 10],\n",
    "        'kernel': ['linear', 'rbf'],\n",
    "        'gamma': ['scale', 'auto']\n",
    "    }\n",
    "    grid_search_for_SVC = GridSearchCV(\n",
    "        estimator = svr,\n",
    "        param_grid = param_grid,\n",
    "        cv = 5,\n",
    "        scoring='r2',\n",
    "        verbose= 0\n",
    "    )\n",
    "    grid_search_for_SVC.fit(train_X,train_Y)\n",
    "    best_SVR = grid_search_for_SVC.best_estimator_\n",
    "\n",
    "\n",
    "\n",
    "    pred_RF = best_RF.predict(test_X)\n",
    "    pred_SVR = best_SVR.predict(test_X)\n",
    "\n",
    "    mae_RF = mean_absolute_error(test_Y, pred_RF)\n",
    "    r2_RF = r2_score(test_Y, pred_RF)\n",
    "\n",
    "    mae_SVR = mean_absolute_error(test_Y, pred_SVR)\n",
    "    r2_SVR = r2_score(test_Y, pred_SVR)\n",
    "\n",
    "    print(f\"Random Forest - MAE: {mae_RF:.3f}, R²: {r2_RF:.3f}\")\n",
    "    print(f\"SVR            - MAE: {mae_SVR : .3f}, R²: {r2_SVR:.3f}\")\n",
    "\n",
    "    if r2_RF > r2_SVR:\n",
    "        print(\"\\n final choisi est: Random Forest Regressor\")\n",
    "    else:\n",
    "        print(\"\\nfinal choisi est: SVR (Support Vector Regressor)\")\n",
    "    return {\n",
    "        \"RandomForestRegressor\" : {\"MAE\":mae_RF, \"r_2\" : r2_RF},\n",
    "        \"SVR\" : {\"MAE\":mae_RF, \"r_2\" : r2_SVR}\n",
    "    }\n",
    "result = GridSearch_CV(train_X,test_X, train_Y,test_Y)"
   ]
  },
  {
   "cell_type": "markdown",
   "id": "dc268de6",
   "metadata": {},
   "source": [
    "Pipline"
   ]
  },
  {
   "cell_type": "code",
   "execution_count": null,
   "id": "6fd01182",
   "metadata": {},
   "outputs": [],
   "source": []
  }
 ],
 "metadata": {
  "kernelspec": {
   "display_name": ".venv",
   "language": "python",
   "name": "python3"
  },
  "language_info": {
   "codemirror_mode": {
    "name": "ipython",
    "version": 3
   },
   "file_extension": ".py",
   "mimetype": "text/x-python",
   "name": "python",
   "nbconvert_exporter": "python",
   "pygments_lexer": "ipython3",
   "version": "3.13.7"
  }
 },
 "nbformat": 4,
 "nbformat_minor": 5
}
